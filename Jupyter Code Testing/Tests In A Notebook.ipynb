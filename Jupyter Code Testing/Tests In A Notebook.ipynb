{
 "cells": [
  {
   "cell_type": "code",
   "execution_count": 22,
   "id": "78995969",
   "metadata": {},
   "outputs": [],
   "source": [
    "import pandas as pd\n",
    "from sklearn.datasets import load_wine, fetch_california_housing\n",
    "import ipytest\n",
    "ipytest.autoconfig()"
   ]
  },
  {
   "cell_type": "markdown",
   "id": "0baa2a4f",
   "metadata": {},
   "source": [
    "## Constants"
   ]
  },
  {
   "cell_type": "code",
   "execution_count": 35,
   "id": "008b3fda",
   "metadata": {},
   "outputs": [],
   "source": [
    "FIELDS_MUST_BE_PRESENT = ['MedInc', 'HouseAge', 'AveRooms', 'AveBedrms', 'Population', 'AveOccup',\n",
    "       'Latitude', 'Longitude', 'MedHouseVal']"
   ]
  },
  {
   "cell_type": "code",
   "execution_count": 17,
   "id": "a04b5bd1",
   "metadata": {},
   "outputs": [],
   "source": [
    "data = fetch_california_housing(as_frame=True)['frame']"
   ]
  },
  {
   "cell_type": "code",
   "execution_count": 38,
   "id": "cd0e5630",
   "metadata": {},
   "outputs": [
    {
     "name": "stdout",
     "output_type": "stream",
     "text": [
      "\u001b[32m.\u001b[0m\u001b[32m.\u001b[0m\u001b[32m.\u001b[0m\u001b[32m.\u001b[0m\u001b[32m.\u001b[0m\u001b[32m.\u001b[0m\u001b[32m                                                                                       [100%]\u001b[0m\n",
      "\u001b[32m\u001b[32m\u001b[1m6 passed\u001b[0m\u001b[32m in 0.03s\u001b[0m\u001b[0m\n"
     ]
    },
    {
     "data": {
      "text/plain": [
       "<ExitCode.OK: 0>"
      ]
     },
     "execution_count": 38,
     "metadata": {},
     "output_type": "execute_result"
    }
   ],
   "source": [
    "ipytest.reload()\n",
    "ipytest.clean_tests()\n",
    "\n",
    "def test_longitude_in_correct_range():\n",
    "    \"\"\"Тестируем, что долгота не выходит за пределы допустимых значений.\"\"\"\n",
    "    assert data.Longitude.min() >= -180 # minimum possible value is correct\n",
    "    assert data.Longitude.max() <= 180 # maximum possible value is correct\n",
    "\n",
    "    \n",
    "def test_latitude_in_correct_range():\n",
    "    \"\"\"Тестируем, что широта не выходит за пределы допустимых значений.\"\"\"\n",
    "    assert data.Latitude.min() >= -90 # minimum possible value is correct\n",
    "    assert data.Latitude.max() <= 90 # maximum possible value is correct\n",
    "    \n",
    "    \n",
    "def test_house_value_not_negative():\n",
    "    \"\"\"Тестируем, стоимость дома не отрицательная.\"\"\"\n",
    "    assert data.MedHouseVal.min() >= 0\n",
    "    \n",
    "    \n",
    "def test_no_duplicated_rows():\n",
    "    \"\"\"Тестируем, что нет дублирующихся строк.\"\"\"\n",
    "    assert data.duplicated().sum() == 0\n",
    "    \n",
    "def test_no_excess_fields():\n",
    "    \"\"\"Тестируем, что нет лишних полей.\"\"\"\n",
    "    assert data.columns.isin(FIELDS_MUST_BE_PRESENT).all()\n",
    "\n",
    "def test_all_required_fields_present():\n",
    "    \"\"\"Тестируем, что все необходимые поля присутствуют.\"\"\"\n",
    "    fields_not_present = [f for f in FIELDS_MUST_BE_PRESENT if f not in data.columns]\n",
    "    assert fields_not_present == []\n",
    "\n",
    "ipytest.run()"
   ]
  },
  {
   "cell_type": "markdown",
   "id": "9b660c3f",
   "metadata": {},
   "source": [
    "# Описание набора данных"
   ]
  },
  {
   "cell_type": "code",
   "execution_count": 20,
   "id": "cf7cecd4",
   "metadata": {},
   "outputs": [
    {
     "name": "stdout",
     "output_type": "stream",
     "text": [
      ".. _california_housing_dataset:\n",
      "\n",
      "California Housing dataset\n",
      "--------------------------\n",
      "\n",
      "**Data Set Characteristics:**\n",
      "\n",
      "    :Number of Instances: 20640\n",
      "\n",
      "    :Number of Attributes: 8 numeric, predictive attributes and the target\n",
      "\n",
      "    :Attribute Information:\n",
      "        - MedInc        median income in block group\n",
      "        - HouseAge      median house age in block group\n",
      "        - AveRooms      average number of rooms per household\n",
      "        - AveBedrms     average number of bedrooms per household\n",
      "        - Population    block group population\n",
      "        - AveOccup      average number of household members\n",
      "        - Latitude      block group latitude\n",
      "        - Longitude     block group longitude\n",
      "\n",
      "    :Missing Attribute Values: None\n",
      "\n",
      "This dataset was obtained from the StatLib repository.\n",
      "https://www.dcc.fc.up.pt/~ltorgo/Regression/cal_housing.html\n",
      "\n",
      "The target variable is the median house value for California districts,\n",
      "expressed in hundreds of thousands of dollars ($100,000).\n",
      "\n",
      "This dataset was derived from the 1990 U.S. census, using one row per census\n",
      "block group. A block group is the smallest geographical unit for which the U.S.\n",
      "Census Bureau publishes sample data (a block group typically has a population\n",
      "of 600 to 3,000 people).\n",
      "\n",
      "An household is a group of people residing within a home. Since the average\n",
      "number of rooms and bedrooms in this dataset are provided per household, these\n",
      "columns may take surpinsingly large values for block groups with few households\n",
      "and many empty houses, such as vacation resorts.\n",
      "\n",
      "It can be downloaded/loaded using the\n",
      ":func:`sklearn.datasets.fetch_california_housing` function.\n",
      "\n",
      ".. topic:: References\n",
      "\n",
      "    - Pace, R. Kelley and Ronald Barry, Sparse Spatial Autoregressions,\n",
      "      Statistics and Probability Letters, 33 (1997) 291-297\n",
      "\n"
     ]
    }
   ],
   "source": [
    "print(fetch_california_housing(as_frame=True)['DESCR'])"
   ]
  },
  {
   "cell_type": "markdown",
   "id": "389db0ab",
   "metadata": {},
   "source": [
    "# Ресурсы"
   ]
  },
  {
   "cell_type": "markdown",
   "id": "2ba1e350",
   "metadata": {},
   "source": [
    "Репозиторий пакета: https://github.com/chmp/ipytest\n",
    "Репозиторий, где можно найти этот ноутбук: https://github.com/4eshireCat/analytics_cookbook"
   ]
  }
 ],
 "metadata": {
  "kernelspec": {
   "display_name": "ds",
   "language": "python",
   "name": "ds"
  },
  "language_info": {
   "codemirror_mode": {
    "name": "ipython",
    "version": 3
   },
   "file_extension": ".py",
   "mimetype": "text/x-python",
   "name": "python",
   "nbconvert_exporter": "python",
   "pygments_lexer": "ipython3",
   "version": "3.9.12"
  }
 },
 "nbformat": 4,
 "nbformat_minor": 5
}
